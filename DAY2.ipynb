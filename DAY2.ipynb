{
  "nbformat": 4,
  "nbformat_minor": 0,
  "metadata": {
    "colab": {
      "provenance": []
    },
    "kernelspec": {
      "name": "python3",
      "display_name": "Python 3"
    },
    "language_info": {
      "name": "python"
    }
  },
  "cells": [
    {
      "cell_type": "code",
      "execution_count": 1,
      "metadata": {
        "id": "migpNOpDzgKS",
        "colab": {
          "base_uri": "https://localhost:8080/"
        },
        "outputId": "e8223abc-7e69-48c2-ee04-aea0be6ee630"
      },
      "outputs": [
        {
          "output_type": "stream",
          "name": "stdout",
          "text": [
            "Requirement already satisfied: yfinance in /usr/local/lib/python3.11/dist-packages (0.2.61)\n",
            "Requirement already satisfied: pandas>=1.3.0 in /usr/local/lib/python3.11/dist-packages (from yfinance) (2.2.2)\n",
            "Requirement already satisfied: numpy>=1.16.5 in /usr/local/lib/python3.11/dist-packages (from yfinance) (2.0.2)\n",
            "Requirement already satisfied: requests>=2.31 in /usr/local/lib/python3.11/dist-packages (from yfinance) (2.32.3)\n",
            "Requirement already satisfied: multitasking>=0.0.7 in /usr/local/lib/python3.11/dist-packages (from yfinance) (0.0.11)\n",
            "Requirement already satisfied: platformdirs>=2.0.0 in /usr/local/lib/python3.11/dist-packages (from yfinance) (4.3.8)\n",
            "Requirement already satisfied: pytz>=2022.5 in /usr/local/lib/python3.11/dist-packages (from yfinance) (2025.2)\n",
            "Requirement already satisfied: frozendict>=2.3.4 in /usr/local/lib/python3.11/dist-packages (from yfinance) (2.4.6)\n",
            "Requirement already satisfied: peewee>=3.16.2 in /usr/local/lib/python3.11/dist-packages (from yfinance) (3.18.1)\n",
            "Requirement already satisfied: beautifulsoup4>=4.11.1 in /usr/local/lib/python3.11/dist-packages (from yfinance) (4.13.4)\n",
            "Requirement already satisfied: curl_cffi>=0.7 in /usr/local/lib/python3.11/dist-packages (from yfinance) (0.11.1)\n",
            "Requirement already satisfied: protobuf>=3.19.0 in /usr/local/lib/python3.11/dist-packages (from yfinance) (5.29.4)\n",
            "Requirement already satisfied: websockets>=13.0 in /usr/local/lib/python3.11/dist-packages (from yfinance) (15.0.1)\n",
            "Requirement already satisfied: soupsieve>1.2 in /usr/local/lib/python3.11/dist-packages (from beautifulsoup4>=4.11.1->yfinance) (2.7)\n",
            "Requirement already satisfied: typing-extensions>=4.0.0 in /usr/local/lib/python3.11/dist-packages (from beautifulsoup4>=4.11.1->yfinance) (4.13.2)\n",
            "Requirement already satisfied: cffi>=1.12.0 in /usr/local/lib/python3.11/dist-packages (from curl_cffi>=0.7->yfinance) (1.17.1)\n",
            "Requirement already satisfied: certifi>=2024.2.2 in /usr/local/lib/python3.11/dist-packages (from curl_cffi>=0.7->yfinance) (2025.4.26)\n",
            "Requirement already satisfied: python-dateutil>=2.8.2 in /usr/local/lib/python3.11/dist-packages (from pandas>=1.3.0->yfinance) (2.9.0.post0)\n",
            "Requirement already satisfied: tzdata>=2022.7 in /usr/local/lib/python3.11/dist-packages (from pandas>=1.3.0->yfinance) (2025.2)\n",
            "Requirement already satisfied: charset-normalizer<4,>=2 in /usr/local/lib/python3.11/dist-packages (from requests>=2.31->yfinance) (3.4.2)\n",
            "Requirement already satisfied: idna<4,>=2.5 in /usr/local/lib/python3.11/dist-packages (from requests>=2.31->yfinance) (3.10)\n",
            "Requirement already satisfied: urllib3<3,>=1.21.1 in /usr/local/lib/python3.11/dist-packages (from requests>=2.31->yfinance) (2.4.0)\n",
            "Requirement already satisfied: pycparser in /usr/local/lib/python3.11/dist-packages (from cffi>=1.12.0->curl_cffi>=0.7->yfinance) (2.22)\n",
            "Requirement already satisfied: six>=1.5 in /usr/local/lib/python3.11/dist-packages (from python-dateutil>=2.8.2->pandas>=1.3.0->yfinance) (1.17.0)\n",
            "Requirement already satisfied: pandas in /usr/local/lib/python3.11/dist-packages (2.2.2)\n",
            "Requirement already satisfied: numpy>=1.23.2 in /usr/local/lib/python3.11/dist-packages (from pandas) (2.0.2)\n",
            "Requirement already satisfied: python-dateutil>=2.8.2 in /usr/local/lib/python3.11/dist-packages (from pandas) (2.9.0.post0)\n",
            "Requirement already satisfied: pytz>=2020.1 in /usr/local/lib/python3.11/dist-packages (from pandas) (2025.2)\n",
            "Requirement already satisfied: tzdata>=2022.7 in /usr/local/lib/python3.11/dist-packages (from pandas) (2025.2)\n",
            "Requirement already satisfied: six>=1.5 in /usr/local/lib/python3.11/dist-packages (from python-dateutil>=2.8.2->pandas) (1.17.0)\n",
            "Requirement already satisfied: numpy in /usr/local/lib/python3.11/dist-packages (2.0.2)\n"
          ]
        }
      ],
      "source": [
        "%pip install yfinance\n",
        "%pip install pandas\n",
        "%pip install numpy"
      ]
    },
    {
      "cell_type": "code",
      "source": [
        "import yfinance as yf\n",
        "import numpy as np\n",
        "import pandas as pd"
      ],
      "metadata": {
        "id": "DWtu5y1-1deL"
      },
      "execution_count": 2,
      "outputs": []
    },
    {
      "cell_type": "code",
      "source": [
        "import matplotlib.pyplot as plt\n",
        "import matplotlib.dates as mdates\n",
        "import seaborn as sns\n",
        "from datetime import datetime\n",
        "\n",
        "\n",
        "ticker = \"AAPL\"\n",
        "start_date = \"2023-01-01\"\n",
        "end_date = datetime.today().strftime(\"%Y-%m-%d\")\n",
        "\n",
        "\n",
        "try:\n",
        "    data = yf.download(\n",
        "        tickers=ticker,\n",
        "        start=start_date,\n",
        "        end=end_date,\n",
        "        progress=True  # 显示下载进度条\n",
        "    )\n",
        "\n",
        "    # 确保数据不为空\n",
        "    if data.empty:\n",
        "        raise ValueError(\"没有获取到数据，请检查股票代码和日期范围\")\n",
        "\n",
        "except Exception as e:\n",
        "    print(f\"下载数据时出错: {e}\")\n",
        "    exit()\n",
        "\n",
        "\n",
        "data = data[['Open', 'High', 'Low', 'Close', 'Volume']]\n",
        "data['SMA_50'] = data['Close'].rolling(window=50, min_periods=1).mean()\n",
        "\n",
        "print(data)\n"
      ],
      "metadata": {
        "id": "C0_4ziWM10Ty",
        "colab": {
          "base_uri": "https://localhost:8080/"
        },
        "outputId": "9a637668-c761-4167-d719-c79850eaccee"
      },
      "execution_count": 7,
      "outputs": [
        {
          "output_type": "stream",
          "name": "stderr",
          "text": [
            "\r[*********************100%***********************]  1 of 1 completed"
          ]
        },
        {
          "output_type": "stream",
          "name": "stdout",
          "text": [
            "Price             Open        High         Low       Close     Volume  \\\n",
            "Ticker            AAPL        AAPL        AAPL        AAPL       AAPL   \n",
            "Date                                                                    \n",
            "2023-01-03  128.613985  129.226052  122.582119  123.470612  112117500   \n",
            "2023-01-04  125.267347  127.014716  123.480495  124.744125   89113600   \n",
            "2023-01-05  125.504260  126.136075  123.164572  123.421242   80962700   \n",
            "2023-01-06  124.398597  128.623856  123.292916  127.962425   87754700   \n",
            "2023-01-09  128.801572  131.703978  128.228987  128.485657   70790800   \n",
            "...                ...         ...         ...         ...        ...   \n",
            "2025-05-23  193.669998  197.699997  193.460007  195.270004   78432900   \n",
            "2025-05-27  198.300003  200.740005  197.429993  200.210007   56288500   \n",
            "2025-05-28  200.589996  202.729996  199.899994  200.419998   45339700   \n",
            "2025-05-29  203.580002  203.809998  198.509995  199.949997   51477900   \n",
            "2025-05-30  199.369995  201.960007  196.779999  200.850006   70753100   \n",
            "\n",
            "Price           SMA_50  \n",
            "Ticker                  \n",
            "Date                    \n",
            "2023-01-03  123.470612  \n",
            "2023-01-04  124.107368  \n",
            "2023-01-05  123.878660  \n",
            "2023-01-06  124.899601  \n",
            "2023-01-09  125.616812  \n",
            "...                ...  \n",
            "2025-05-23  206.263889  \n",
            "2025-05-27  206.003881  \n",
            "2025-05-28  205.737886  \n",
            "2025-05-29  205.488657  \n",
            "2025-05-30  205.206494  \n",
            "\n",
            "[604 rows x 6 columns]\n"
          ]
        },
        {
          "output_type": "stream",
          "name": "stderr",
          "text": [
            "\n"
          ]
        }
      ]
    },
    {
      "cell_type": "markdown",
      "source": [
        "## 成本计算"
      ],
      "metadata": {
        "id": "5cO5P3Ksb3p8"
      }
    },
    {
      "cell_type": "code",
      "source": [
        "def calculate_trade_cost(order):\n",
        "    \"\"\"计算交易总成本\"\"\"\n",
        "    # 佣金\n",
        "    commission = max(order.shares * 0.005, 1)  # $0.005/股 最低$1\n",
        "\n",
        "    # 滑点模型（基于流动性）\n",
        "    liquidity_factor = 0.0005 * (order.shares / 10000)**0.5\n",
        "    slippage = order.price * liquidity_factor\n",
        "\n",
        "    # 市场冲击（大额订单）\n",
        "    impact = 0.0002 * order.shares if order.shares > 10000 else 0\n",
        "\n",
        "    total_cost = commission + slippage + impact\n",
        "    return total_cost"
      ],
      "metadata": {
        "id": "oIWOYGccfjni"
      },
      "execution_count": 5,
      "outputs": []
    },
    {
      "cell_type": "code",
      "source": [],
      "metadata": {
        "id": "vCL8sXSocyKH"
      },
      "execution_count": null,
      "outputs": []
    }
  ]
}