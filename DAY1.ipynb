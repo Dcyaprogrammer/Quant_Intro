{
  "nbformat": 4,
  "nbformat_minor": 0,
  "metadata": {
    "colab": {
      "provenance": []
    },
    "kernelspec": {
      "name": "python3",
      "display_name": "Python 3"
    },
    "language_info": {
      "name": "python"
    }
  },
  "cells": [
    {
      "cell_type": "code",
      "execution_count": null,
      "metadata": {
        "id": "migpNOpDzgKS"
      },
      "outputs": [],
      "source": [
        "%pip install yfinance\n",
        "%pip install pandas\n",
        "%pip install numpy"
      ]
    },
    {
      "cell_type": "code",
      "source": [
        "import yfinance as yf\n",
        "import numpy as np\n",
        "import pandas as pd"
      ],
      "metadata": {
        "id": "DWtu5y1-1deL"
      },
      "execution_count": 2,
      "outputs": []
    },
    {
      "cell_type": "code",
      "source": [
        "import matplotlib.pyplot as plt\n",
        "import matplotlib.dates as mdates\n",
        "import seaborn as sns\n",
        "from datetime import datetime\n",
        "\n",
        "\n",
        "ticker = \"AAPL\"\n",
        "start_date = \"2023-01-01\"\n",
        "end_date = datetime.today().strftime(\"%Y-%m-%d\")\n",
        "\n",
        "\n",
        "try:\n",
        "    data = yf.download(\n",
        "        tickers=ticker,\n",
        "        start=start_date,\n",
        "        end=end_date,\n",
        "        progress=True  # 显示下载进度条\n",
        "    )\n",
        "\n",
        "    # 确保数据不为空\n",
        "    if data.empty:\n",
        "        raise ValueError(\"没有获取到数据，请检查股票代码和日期范围\")\n",
        "\n",
        "except Exception as e:\n",
        "    print(f\"下载数据时出错: {e}\")\n",
        "    exit()\n",
        "\n",
        "\n",
        "data = data[['Open', 'High', 'Low', 'Close', 'Volume']]\n",
        "data['SMA_50'] = data['Close'].rolling(window=50, min_periods=1).mean()\n",
        "\n",
        "print(data)\n"
      ],
      "metadata": {
        "id": "C0_4ziWM10Ty",
        "colab": {
          "base_uri": "https://localhost:8080/"
        },
        "outputId": "80dbfb47-de89-42be-e0ac-036944ae47b4"
      },
      "execution_count": 9,
      "outputs": [
        {
          "output_type": "stream",
          "name": "stderr",
          "text": [
            "\r[*********************100%***********************]  1 of 1 completed"
          ]
        },
        {
          "output_type": "stream",
          "name": "stdout",
          "text": [
            "Price             Open        High         Low       Close     Volume  \\\n",
            "Ticker            AAPL        AAPL        AAPL        AAPL       AAPL   \n",
            "Date                                                                    \n",
            "2023-01-03  128.613993  129.226060  122.582127  123.470619  112117500   \n",
            "2023-01-04  125.267347  127.014716  123.480495  124.744125   89113600   \n",
            "2023-01-05  125.504275  126.136090  123.164587  123.421257   80962700   \n",
            "2023-01-06  124.398611  128.623871  123.292931  127.962440   87754700   \n",
            "2023-01-09  128.801572  131.703978  128.228987  128.485657   70790800   \n",
            "...                ...         ...         ...         ...        ...   \n",
            "2025-05-22  200.710007  202.750000  199.699997  201.360001   46742400   \n",
            "2025-05-23  193.669998  197.699997  193.460007  195.270004   78432900   \n",
            "2025-05-27  198.300003  200.740005  197.429993  200.210007   56288500   \n",
            "2025-05-28  200.589996  202.729996  199.899994  200.419998   45339700   \n",
            "2025-05-29  203.580002  203.809998  198.509995  199.949997   51396800   \n",
            "\n",
            "Price           SMA_50  \n",
            "Ticker                  \n",
            "Date                    \n",
            "2023-01-03  123.470619  \n",
            "2023-01-04  124.107372  \n",
            "2023-01-05  123.878667  \n",
            "2023-01-06  124.899611  \n",
            "2023-01-09  125.616820  \n",
            "...                ...  \n",
            "2025-05-22  206.546597  \n",
            "2025-05-23  206.263889  \n",
            "2025-05-27  206.003881  \n",
            "2025-05-28  205.737886  \n",
            "2025-05-29  205.488657  \n",
            "\n",
            "[603 rows x 6 columns]\n"
          ]
        },
        {
          "output_type": "stream",
          "name": "stderr",
          "text": [
            "\n"
          ]
        }
      ]
    },
    {
      "cell_type": "code",
      "source": [
        "plt.figure(figsize=(14, 8), dpi=100)\n",
        "sns.set_style(\"whitegrid\")\n",
        "\n",
        "# Price and Deals\n",
        "ax1 = plt.subplot(2, 1, 1)\n",
        "ax2 = plt.subplot(2, 1, 2)\n",
        "\n",
        "\n",
        "ax1.plot(data.index, data['Close'],\n",
        "         label='Closing Price',\n",
        "         color='#1f77b4',\n",
        "         linewidth=1.5,\n",
        "         alpha=0.7)\n",
        "\n",
        "\n",
        "ax1.plot(data.index, data['SMA_50'],\n",
        "         label='50-Day SMA',\n",
        "         color='#ff7f0e',\n",
        "         linestyle='--',\n",
        "         linewidth=1.5)\n",
        "\n",
        "\n",
        "ax1.fill_between(data.index,\n",
        "                data['Low'].values,\n",
        "                data['High'].values,\n",
        "                color='skyblue',\n",
        "                alpha=0.2,\n",
        "                label='Daily Range')\n",
        "\n",
        "\n",
        "colors = ['red' if close < open else 'green'\n",
        "          for open, close in zip(data['Open'], data['Close'])]\n",
        "\n",
        "ax2.bar(data.index,\n",
        "        data['Volume'],\n",
        "        color=colors,\n",
        "        alpha=0.7,\n",
        "        width=1)\n",
        "\n",
        "\n",
        "ax1.set_title(f'{ticker} Stock Price: {start_date} to {end_date}',\n",
        "              fontsize=16,\n",
        "              fontweight='bold')\n",
        "ax1.set_ylabel('Price (USD)', fontsize=12)\n",
        "ax1.legend(loc='upper left', frameon=True)\n",
        "ax1.grid(True, linestyle='--', alpha=0.7)\n",
        "\n",
        "\n",
        "ax1.xaxis.set_major_formatter(mdates.DateFormatter('%b %Y'))\n",
        "ax1.xaxis.set_major_locator(mdates.MonthLocator(interval=1))\n",
        "\n",
        "\n",
        "ax2.set_title('Trading Volume', fontsize=14)\n",
        "ax2.set_ylabel('Volume', fontsize=12)\n",
        "ax2.set_xlabel('Date', fontsize=12)\n",
        "ax2.grid(True, linestyle='--', alpha=0.3)\n",
        "\n",
        "\n",
        "plt.gcf().autofmt_xdate()\n",
        "\n",
        "\n",
        "company = yf.Ticker(ticker)\n",
        "info = company.info\n",
        "plt.figtext(0.15, 0.01,\n",
        "            f\"Company: {info.get('longName', 'N/A')} | Sector: {info.get('sector', 'N/A')} | Market Cap: ${info.get('marketCap', 0)/1e9:.2f}B\",\n",
        "            fontsize=10,\n",
        "            ha='left')\n",
        "\n",
        "\n",
        "plt.tight_layout()\n",
        "plt.show()"
      ],
      "metadata": {
        "id": "Reg3Zx9o2Egg"
      },
      "execution_count": null,
      "outputs": []
    },
    {
      "cell_type": "code",
      "source": [],
      "metadata": {
        "id": "oIWOYGccfjni"
      },
      "execution_count": null,
      "outputs": []
    }
  ]
}