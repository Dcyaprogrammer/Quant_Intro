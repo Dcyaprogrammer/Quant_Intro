{
  "nbformat": 4,
  "nbformat_minor": 0,
  "metadata": {
    "colab": {
      "provenance": []
    },
    "kernelspec": {
      "name": "python3",
      "display_name": "Python 3"
    },
    "language_info": {
      "name": "python"
    }
  },
  "cells": [
    {
      "cell_type": "code",
      "execution_count": null,
      "metadata": {
        "id": "lfKrhvAzzPPf",
        "colab": {
          "base_uri": "https://localhost:8080/"
        },
        "outputId": "1431b6d6-852d-45b5-93b0-597d4a77c7e8"
      },
      "outputs": [
        {
          "output_type": "stream",
          "name": "stdout",
          "text": [
            "Requirement already satisfied: gymnasium in /usr/local/lib/python3.11/dist-packages (1.1.1)\n",
            "Requirement already satisfied: numpy>=1.21.0 in /usr/local/lib/python3.11/dist-packages (from gymnasium) (2.0.2)\n",
            "Requirement already satisfied: cloudpickle>=1.2.0 in /usr/local/lib/python3.11/dist-packages (from gymnasium) (3.1.1)\n",
            "Requirement already satisfied: typing-extensions>=4.3.0 in /usr/local/lib/python3.11/dist-packages (from gymnasium) (4.14.0)\n",
            "Requirement already satisfied: farama-notifications>=0.0.1 in /usr/local/lib/python3.11/dist-packages (from gymnasium) (0.0.4)\n",
            "Requirement already satisfied: numpy in /usr/local/lib/python3.11/dist-packages (2.0.2)\n"
          ]
        }
      ],
      "source": [
        "%pip install gymnasium\n",
        "%pip install numpy"
      ]
    },
    {
      "cell_type": "code",
      "source": [
        "from typing import Optional\n",
        "import numpy as np\n",
        "import gymnasium as gym\n",
        "from gymnasium import spaces\n",
        "import matplotlib.pyplot as plt"
      ],
      "metadata": {
        "id": "krFPmX_lzaEi"
      },
      "execution_count": 1,
      "outputs": []
    },
    {
      "cell_type": "markdown",
      "source": [
        "## BaseEnv"
      ],
      "metadata": {
        "id": "llvQvyocAVyp"
      }
    },
    {
      "cell_type": "code",
      "source": [
        "class STBaseEnv(gym.Env):\n",
        "  def __init__(self, dataframe, ibalance=1e4,\n",
        "               features=['Open', 'High', 'Low', 'Close', 'Volume'],\n",
        "               slippage_rate=0.0005,\n",
        "               min_trade_size=1,\n",
        "               shares_held=0):\n",
        "    super(STBaseEnv, self).__init__()\n",
        "    self.df = dataframe\n",
        "    self.ibalance = ibalance\n",
        "    self.balance = ibalance\n",
        "    self.net_worth = ibalance\n",
        "    self.current_step = 0\n",
        "    self.slippage_rate = slippage_rate\n",
        "    self.shares_held = shares_held\n",
        "    self.commission_rate = 0.001 # 0.1%q\n",
        "    self.features = features # Store the list of features\n",
        "    self.min_trade_size = min_trade_size\n",
        "\n",
        "    # Actions of the format Buy x%, Sell x%, Hold, etc.\n",
        "    self.action_space = spaces.Box(\n",
        "        low=np.array([0, 0]), high=np.array([3, 1]), dtype=np.float16)\n",
        "\n",
        "    # Shape is based on the number of selected features plus balance\n",
        "    self.observation_space = spaces.Box(\n",
        "          low=0, high=np.inf, shape=(len(self.features) + 1,), dtype=np.float32) # Changed high to np.inf and dtype to float32\n",
        "\n",
        "\n",
        "  def reset(self):\n",
        "    self.balance = self.ibalance\n",
        "    self.current_step = 0\n",
        "\n",
        "    return self._get_observation(), {} # Added info dictionary to reset return\n",
        "\n",
        "  def step(self, action):\n",
        "    self._act(action)\n",
        "    terminated = False\n",
        "\n",
        "    self.current_step += 1 # Corrected typo currentstep to current_step\n",
        "\n",
        "    if self.current_step == self.df.shape[0]: # Corrected data to df and changed condition to check if current_step reaches the end of the dataframe\n",
        "      terminated = True\n",
        "      # self.current_step = 0 used for loop training\n",
        "\n",
        "    obs = self._get_observation()\n",
        "    reward = 0  # calculate reward\n",
        "\n",
        "    # leave for implementation\n",
        "    truncated = False\n",
        "    info = self._get_info()\n",
        "\n",
        "    return obs, reward, terminated, truncated, info\n",
        "\n",
        "  def _act(self, action):\n",
        "    current_price = self.df.loc[self.current_step, 'Close']\n",
        "\n",
        "    action_type = int(action[0])\n",
        "    percentage = np.clip(action[1], 0.0, 1.0)\n",
        "\n",
        "    # calculate effective price with slippage(for simplicity, applied symmetrically for buy/sell)\n",
        "    effective_buy_price = current_price * (1 + self.slippage_rate)\n",
        "    effective_sell_price = current_price * (1 - self.slippage_rate)\n",
        "\n",
        "    # transaction details for logging/info\n",
        "    shares_traded = 0\n",
        "    trade_value = 0\n",
        "    commission_cost = 0\n",
        "\n",
        "    if action_type == 0: # Buy\n",
        "      max_shares_affordable = self.balance / effective_buy_price\n",
        "      shares_to_buy = max(self.min_trade_size, ((self.balance * percentage) / effective_buy_price))\n",
        "\n",
        "      if shares_to_buy > 0:\n",
        "        shares_traded = min(max_shares_affordable, shares_to_buy)\n",
        "        trade_value = shares_traded * current_price\n",
        "        commission_cost = trade_value * self.commission_rate\n",
        "\n",
        "        if self.balance > trade_value + commission_cost:\n",
        "          self.balance -= (trade_value + commission_cost)\n",
        "\n",
        "    elif action_type == 1: # Sell\n",
        "      shares_to_sell = self.shares_held * percentage\n",
        "\n",
        "      # ensure minimal\n",
        "      shares_to_sell = max(self.min_trade_size, int(shares_to_sell))\n",
        "\n",
        "      # ensure we don't sell more than we hold\n",
        "      # possible error here\n",
        "      shares_to_sell = min(shares_to_sell, self.shares_held)\n",
        "\n",
        "      if shares_to_sell > 0:\n",
        "        trade_value = shares_to_sell * effective_sell_price\n",
        "        commission_cost = trade_value * self.commission_rate\n",
        "\n",
        "        self.balance += (trade_value - commission_cost)\n",
        "        self.shares_held -= shares_to_sell\n",
        "\n",
        "\n",
        "      if shares_to_sell > 0:\n",
        "        trade_value = shares_to_sell * current_price\n",
        "\n",
        "    elif action_type == 2: # Hold\n",
        "      pass\n",
        "\n",
        "    self.net_worth = self.balance + (self.shares_held * current_price)\n",
        "\n",
        "  def _get_observation(self): # Corrected indentation of _get_observation\n",
        "    obs = [self.df.loc[self.current_step, feature] for feature in self.features]\n",
        "    obs.append(self.balance)\n",
        "    return np.array(obs, dtype=np.float32) # Ensure observation is a numpy array with specified dtype\n",
        "\n",
        "\n",
        "  def _get_info(self):\n",
        "      pass\n",
        "\n",
        "  def render(self):\n",
        "      pass"
      ],
      "metadata": {
        "id": "8nMOORInzpWN"
      },
      "execution_count": 2,
      "outputs": []
    },
    {
      "cell_type": "markdown",
      "source": [
        "## Wrappers"
      ],
      "metadata": {
        "id": "ki5Rr-Pwb-IL"
      }
    },
    {
      "cell_type": "code",
      "source": [
        "class MAIndicatorWrapper(gym.ObservationWrapper):\n",
        "  def __init__(self, env, feature='Close', window=5):\n",
        "    super(MAIndicatorWrapper, self).__init__(env)\n",
        "    self.window = window\n",
        "    self.feature = feature\n",
        "\n",
        "    # Update observation space to include the new MA feature\n",
        "    obs_shape = self.observation_space.shape[0]\n",
        "    self.observation_space = spaces.Box(\n",
        "        low=0, high=np.inf, shape=(obs_shape + 1,), dtype=np.float32\n",
        "    )\n",
        "\n",
        "\n",
        "  def observation(self, observation):\n",
        "    # Calculate the moving average for the specified feature\n",
        "    start_index = max(0, self.env.current_step - self.window + 1)\n",
        "    end_index = self.env.current_step + 1\n",
        "    ma = self.env.df.loc[start_index:end_index, self.feature].mean()\n",
        "\n",
        "    # Append the moving average to the original observation\n",
        "    return np.append(observation, ma)"
      ],
      "metadata": {
        "id": "4iJhrETNaqU3"
      },
      "execution_count": null,
      "outputs": []
    },
    {
      "cell_type": "markdown",
      "source": [
        "## Finance Data"
      ],
      "metadata": {
        "id": "M1Wyfiy_8ZlR"
      }
    },
    {
      "cell_type": "code",
      "source": [
        "import yfinance as yf\n",
        "import pandas as pd\n",
        "import matplotlib.pyplot as plt\n",
        "\n",
        "# 1. Define Stock Ticker and Date Range\n",
        "ticker_symbol = \"TSLA\"\n",
        "start_date = \"2023-01-01\"\n",
        "end_date = \"2024-01-01\" # Data typically excludes the end date, so this fetches all of 2023\n",
        "\n",
        "print(f\"Downloading {ticker_symbol} data from {start_date} to {end_date}...\")\n",
        "\n",
        "# 2. Use yf.download() to fetch data\n",
        "# yf.download(tickers, start=None, end=None, actions=False, threads=True,\n",
        "#             group_by='column', auto_adjust=False, prepost=False,\n",
        "#             proxy=None, rounding=False, tz=None, timeout=None, **kwargs)\n",
        "try:\n",
        "    tsla_data = yf.download(ticker_symbol, start=start_date, end=end_date)\n",
        "\n",
        "    if tsla_data.empty:\n",
        "        print(f\"No historical data found for {ticker_symbol} within the specified date range. Please check the ticker symbol or date range.\")\n",
        "    else:\n",
        "        print(\"\\nData downloaded successfully!\")\n",
        "        print(\"First 5 rows of data:\")\n",
        "        print(tsla_data.head())\n",
        "\n",
        "        print(\"\\nData Information:\")\n",
        "        tsla_data.info()\n",
        "\n",
        "        # 3. Basic Data Operations\n",
        "        print(f\"\\n{ticker_symbol} 2023 Average Close Price: {tsla_data['Close'].mean():.2f}\")\n",
        "        print(f\"{ticker_symbol} 2023 Highest Close Price: {tsla_data['Close'].max():.2f}\")\n",
        "        print(f\"{ticker_symbol} 2023 Lowest Close Price: {tsla_data['Close'].min():.2f}\")\n",
        "        print(f\"{ticker_symbol} 2023 Total Volume: {tsla_data['Volume'].sum()}\")\n",
        "\n",
        "        # 4. Visualize Close Price and Volume\n",
        "        plt.figure(figsize=(14, 7))\n",
        "\n",
        "        # Close Price Plot\n",
        "        plt.subplot(2, 1, 1) # 2 rows, 1 column, 1st plot\n",
        "        plt.plot(tsla_data.index, tsla_data['Close'], label='TSLA Close Price', color='blue')\n",
        "        plt.title(f'{ticker_symbol} 2023 Close Price Trend')\n",
        "        plt.xlabel('Date')\n",
        "        plt.ylabel('Price (USD)')\n",
        "        plt.grid(True)\n",
        "        plt.legend()\n",
        "\n",
        "        # Volume Plot\n",
        "        plt.subplot(2, 1, 2) # 2 rows, 1 column, 2nd plot\n",
        "        plt.bar(tsla_data.index, tsla_data['Volume'], label='TSLA Volume', color='gray')\n",
        "        plt.title(f'{ticker_symbol} 2023 Trading Volume')\n",
        "        plt.xlabel('Date')\n",
        "        plt.ylabel('Volume')\n",
        "        plt.grid(True)\n",
        "        plt.legend()\n",
        "\n",
        "        plt.tight_layout() # Adjust subplot parameters for a tight layout\n",
        "        plt.show()\n",
        "\n",
        "except Exception as e:\n",
        "    print(f\"An error occurred while downloading data: {e}\")"
      ],
      "metadata": {
        "colab": {
          "base_uri": "https://localhost:8080/"
        },
        "id": "OXDlSnqDE1j1",
        "outputId": "a6fc0ed3-8847-45f5-c492-f019081df448"
      },
      "execution_count": null,
      "outputs": [
        {
          "output_type": "stream",
          "name": "stderr",
          "text": [
            "/tmp/ipython-input-15-4097857054.py:17: FutureWarning: YF.download() has changed argument auto_adjust default to True\n",
            "  tsla_data = yf.download(ticker_symbol, start=start_date, end=end_date)\n",
            "\r[*********************100%***********************]  1 of 1 completed"
          ]
        },
        {
          "output_type": "stream",
          "name": "stdout",
          "text": [
            "Downloading TSLA data from 2023-01-01 to 2024-01-01...\n",
            "\n",
            "Data downloaded successfully!\n",
            "First 5 rows of data:\n",
            "Price            Close        High         Low        Open     Volume\n",
            "Ticker            TSLA        TSLA        TSLA        TSLA       TSLA\n",
            "Date                                                                 \n",
            "2023-01-03  108.099998  118.800003  104.639999  118.470001  231402800\n",
            "2023-01-04  113.639999  114.589996  107.519997  109.110001  180389000\n",
            "2023-01-05  110.339996  111.750000  107.160004  110.510002  157986300\n",
            "2023-01-06  113.059998  114.389999  101.809998  103.000000  220911100\n",
            "2023-01-09  119.769997  123.519997  117.110001  118.959999  190284000\n",
            "\n",
            "Data Information:\n",
            "<class 'pandas.core.frame.DataFrame'>\n",
            "DatetimeIndex: 250 entries, 2023-01-03 to 2023-12-29\n",
            "Data columns (total 5 columns):\n",
            " #   Column          Non-Null Count  Dtype  \n",
            "---  ------          --------------  -----  \n",
            " 0   (Close, TSLA)   250 non-null    float64\n",
            " 1   (High, TSLA)    250 non-null    float64\n",
            " 2   (Low, TSLA)     250 non-null    float64\n",
            " 3   (Open, TSLA)    250 non-null    float64\n",
            " 4   (Volume, TSLA)  250 non-null    int64  \n",
            "dtypes: float64(4), int64(1)\n",
            "memory usage: 11.7 KB\n",
            "An error occurred while downloading data: unsupported format string passed to Series.__format__\n"
          ]
        },
        {
          "output_type": "stream",
          "name": "stderr",
          "text": [
            "\n"
          ]
        }
      ]
    },
    {
      "cell_type": "code",
      "source": [],
      "metadata": {
        "id": "mIxOglQQE_f2"
      },
      "execution_count": null,
      "outputs": []
    },
    {
      "cell_type": "code",
      "metadata": {
        "id": "4d7a6c61"
      },
      "source": [],
      "execution_count": null,
      "outputs": []
    }
  ]
}