{
  "nbformat": 4,
  "nbformat_minor": 0,
  "metadata": {
    "colab": {
      "provenance": []
    },
    "kernelspec": {
      "name": "python3",
      "display_name": "Python 3"
    },
    "language_info": {
      "name": "python"
    }
  },
  "cells": [
    {
      "cell_type": "code",
      "execution_count": null,
      "metadata": {
        "id": "lfKrhvAzzPPf"
      },
      "outputs": [],
      "source": [
        "%pip install gymnasium\n",
        "%pip install numpy"
      ]
    },
    {
      "cell_type": "code",
      "source": [
        "from typing import Optional\n",
        "import numpy as np\n",
        "import gymnasium as gym\n",
        "from gymnasium import spaces"
      ],
      "metadata": {
        "id": "krFPmX_lzaEi"
      },
      "execution_count": 4,
      "outputs": []
    },
    {
      "cell_type": "markdown",
      "source": [
        "## Base Env"
      ],
      "metadata": {
        "id": "KWnqppCdb8Uv"
      }
    },
    {
      "cell_type": "code",
      "source": [
        "class STBaseEnv(gym.Env):\n",
        "  def __init__(self, data, ibalance=1e4):\n",
        "    super(STBaseEnv, self).__init__()\n",
        "    self.data = data\n",
        "    self.ibalance = ibalance\n",
        "    self.action_space = spaces.Discrete(3)\n",
        "    self.balance = ibalance\n",
        "\n",
        "    # data.shape[1] is the num of features, 2 is for balance and position\n",
        "    self.observation_space = spaces.Box(low=-np.inf, high=np.inf, shape=(data.shape[1]+2))\n",
        "    self.reset()\n",
        "\n",
        "  def reset(self):\n",
        "    self.balance = self.ibalance\n",
        "    self.position = 0\n",
        "    self.current_step =0\n",
        "\n",
        "    return self._get_observation()\n",
        "\n",
        "  def step(self, action):\n",
        "    obs = self._get_observation()\n",
        "    reward = 0  # calculate reward\n",
        "    done = False\n",
        "    info = {}\n",
        "\n",
        "    return obs, reward, done, info\n",
        "\n",
        "    def _get_observation(self):\n",
        "      obs = np.concatenate([self.data[self.current_step], [self.balance, self.position]])\n",
        "      return obs\n"
      ],
      "metadata": {
        "id": "8nMOORInzpWN"
      },
      "execution_count": 10,
      "outputs": []
    },
    {
      "cell_type": "markdown",
      "source": [
        "## Wrappers"
      ],
      "metadata": {
        "id": "ki5Rr-Pwb-IL"
      }
    },
    {
      "cell_type": "code",
      "source": [
        "class MAIndicatorWrapper(gym.ObservationWrapper):\n",
        "  def __init__(self, env, window=5):\n",
        "    super(MAIndicatorWrapper, self).__init__(env)\n",
        "    self.window = window\n",
        "\n",
        "  def observation(self, observation):\n",
        "    ma = self.env.data[max(0, self.env.current_step-self.window+1):self.env.current_step+1, 0].mean()\n",
        "    return np.append(observation, ma)"
      ],
      "metadata": {
        "id": "4iJhrETNaqU3"
      },
      "execution_count": 11,
      "outputs": []
    },
    {
      "cell_type": "code",
      "source": [],
      "metadata": {
        "id": "c_PXbrVZcwkl"
      },
      "execution_count": null,
      "outputs": []
    }
  ]
}