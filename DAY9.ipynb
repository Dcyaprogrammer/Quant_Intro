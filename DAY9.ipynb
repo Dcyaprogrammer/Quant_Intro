{
  "nbformat": 4,
  "nbformat_minor": 0,
  "metadata": {
    "colab": {
      "provenance": []
    },
    "kernelspec": {
      "name": "python3",
      "display_name": "Python 3"
    },
    "language_info": {
      "name": "python"
    }
  },
  "cells": [
    {
      "cell_type": "code",
      "execution_count": null,
      "metadata": {
        "id": "migpNOpDzgKS"
      },
      "outputs": [],
      "source": [
        "%pip install yfinance\n",
        "%pip install pandas\n",
        "%pip install numpy\n",
        "%pip install matplotlib\n",
        "%pip install statsmodels\n",
        "%pip install datetime\n",
        "%pip install scikit-learn\n",
        "%pip install PyPortfolioOpt"
      ]
    },
    {
      "cell_type": "code",
      "source": [
        "%pip install pandas-ta"
      ],
      "metadata": {
        "id": "scqvFfnlJNfx"
      },
      "execution_count": null,
      "outputs": []
    },
    {
      "cell_type": "markdown",
      "source": [
        "## Load SP500 Data"
      ],
      "metadata": {
        "id": "QM-ZL8MsAyzz"
      }
    },
    {
      "cell_type": "code",
      "source": [
        "from statsmodels.regression.rolling import RollingOLS\n",
        "import pandas_datareader.data as web\n",
        "import matplotlib.pyplot as plt\n",
        "import statsmodels.api as sm\n",
        "import pandas_ta\n",
        "import pandas as pd\n",
        "import numpy as np\n",
        "import datetime as dt\n",
        "import yfinance as yf\n",
        "import warnings"
      ],
      "metadata": {
        "id": "_UTfewsVAKD5"
      },
      "execution_count": 4,
      "outputs": []
    },
    {
      "cell_type": "code",
      "source": [
        "sp500 = pd.read_html('https://en.wikipedia.org/wiki/List_of_S%26P_500_companies')[0]\n",
        "sp500['Symbol'] = sp500['Symbol'].str.replace('.', '-')\n",
        "symbols_list = sp500['Symbol'].unique().tolist()"
      ],
      "metadata": {
        "id": "YgZl4txLBNdS"
      },
      "execution_count": 5,
      "outputs": []
    },
    {
      "cell_type": "code",
      "source": [
        "end_date = '2025-01-01'\n",
        "\n",
        "start_date = pd.to_datetime(end_date) - pd.DateOffset(365*8)"
      ],
      "metadata": {
        "id": "dUkqM5ltByk9"
      },
      "execution_count": 6,
      "outputs": []
    },
    {
      "cell_type": "code",
      "source": [
        "df = yf.download(tickers=symbols_list, start=start_date, end=end_date, auto_adjust=False)"
      ],
      "metadata": {
        "colab": {
          "base_uri": "https://localhost:8080/",
          "height": 530
        },
        "id": "wopbCFvpB8dL",
        "outputId": "6e5b9170-b47f-4329-b95f-1f7ba81d0827"
      },
      "execution_count": 7,
      "outputs": [
        {
          "output_type": "stream",
          "name": "stderr",
          "text": [
            "[*********************100%***********************]  503 of 503 completed\n",
            "<ipython-input-7-387965520>:2: FutureWarning: The previous implementation of stack is deprecated and will be removed in a future version of pandas. See the What's New notes for pandas 2.1.0 for details. Specify future_stack=True to adopt the new implementation and silence this warning.\n",
            "  df.stack()\n"
          ]
        },
        {
          "output_type": "execute_result",
          "data": {
            "text/plain": [
              "Price               Adj Close       Close        High         Low        Open  \\\n",
              "Date       Ticker                                                               \n",
              "2017-01-03 A        43.651138   46.490002   46.750000   45.740002   45.930000   \n",
              "           AAPL     26.827246   29.037500   29.082500   28.690001   28.950001   \n",
              "           ABBV     43.450203   62.410000   63.029999   61.939999   62.919998   \n",
              "           ABT      33.456718   39.049999   39.080002   38.340000   38.630001   \n",
              "           ACGL     27.224224   28.629999   29.143333   28.506666   28.943333   \n",
              "...                       ...         ...         ...         ...         ...   \n",
              "2024-12-31 XYL     115.293098  116.019997  117.110001  115.570000  116.779999   \n",
              "           YUM     132.877213  134.160004  134.789993  133.250000  134.089996   \n",
              "           ZBH     105.404167  105.629997  106.500000  104.959999  105.910004   \n",
              "           ZBRA    386.220001  386.220001  387.410004  381.750000  383.420013   \n",
              "           ZTS     161.892609  162.929993  163.750000  161.869995  162.899994   \n",
              "\n",
              "Price                   Volume  \n",
              "Date       Ticker               \n",
              "2017-01-03 A         1739600.0  \n",
              "           AAPL    115127600.0  \n",
              "           ABBV      9328200.0  \n",
              "           ABT       9677300.0  \n",
              "           ACGL       942900.0  \n",
              "...                        ...  \n",
              "2024-12-31 XYL        641600.0  \n",
              "           YUM       1217100.0  \n",
              "           ZBH        683300.0  \n",
              "           ZBRA       327900.0  \n",
              "           ZTS       1327400.0  \n",
              "\n",
              "[989160 rows x 6 columns]"
            ],
            "text/html": [
              "\n",
              "  <div id=\"df-a785c97f-74f4-4571-8fe3-49004cd951e6\" class=\"colab-df-container\">\n",
              "    <div>\n",
              "<style scoped>\n",
              "    .dataframe tbody tr th:only-of-type {\n",
              "        vertical-align: middle;\n",
              "    }\n",
              "\n",
              "    .dataframe tbody tr th {\n",
              "        vertical-align: top;\n",
              "    }\n",
              "\n",
              "    .dataframe thead th {\n",
              "        text-align: right;\n",
              "    }\n",
              "</style>\n",
              "<table border=\"1\" class=\"dataframe\">\n",
              "  <thead>\n",
              "    <tr style=\"text-align: right;\">\n",
              "      <th></th>\n",
              "      <th>Price</th>\n",
              "      <th>Adj Close</th>\n",
              "      <th>Close</th>\n",
              "      <th>High</th>\n",
              "      <th>Low</th>\n",
              "      <th>Open</th>\n",
              "      <th>Volume</th>\n",
              "    </tr>\n",
              "    <tr>\n",
              "      <th>Date</th>\n",
              "      <th>Ticker</th>\n",
              "      <th></th>\n",
              "      <th></th>\n",
              "      <th></th>\n",
              "      <th></th>\n",
              "      <th></th>\n",
              "      <th></th>\n",
              "    </tr>\n",
              "  </thead>\n",
              "  <tbody>\n",
              "    <tr>\n",
              "      <th rowspan=\"5\" valign=\"top\">2017-01-03</th>\n",
              "      <th>A</th>\n",
              "      <td>43.651138</td>\n",
              "      <td>46.490002</td>\n",
              "      <td>46.750000</td>\n",
              "      <td>45.740002</td>\n",
              "      <td>45.930000</td>\n",
              "      <td>1739600.0</td>\n",
              "    </tr>\n",
              "    <tr>\n",
              "      <th>AAPL</th>\n",
              "      <td>26.827246</td>\n",
              "      <td>29.037500</td>\n",
              "      <td>29.082500</td>\n",
              "      <td>28.690001</td>\n",
              "      <td>28.950001</td>\n",
              "      <td>115127600.0</td>\n",
              "    </tr>\n",
              "    <tr>\n",
              "      <th>ABBV</th>\n",
              "      <td>43.450203</td>\n",
              "      <td>62.410000</td>\n",
              "      <td>63.029999</td>\n",
              "      <td>61.939999</td>\n",
              "      <td>62.919998</td>\n",
              "      <td>9328200.0</td>\n",
              "    </tr>\n",
              "    <tr>\n",
              "      <th>ABT</th>\n",
              "      <td>33.456718</td>\n",
              "      <td>39.049999</td>\n",
              "      <td>39.080002</td>\n",
              "      <td>38.340000</td>\n",
              "      <td>38.630001</td>\n",
              "      <td>9677300.0</td>\n",
              "    </tr>\n",
              "    <tr>\n",
              "      <th>ACGL</th>\n",
              "      <td>27.224224</td>\n",
              "      <td>28.629999</td>\n",
              "      <td>29.143333</td>\n",
              "      <td>28.506666</td>\n",
              "      <td>28.943333</td>\n",
              "      <td>942900.0</td>\n",
              "    </tr>\n",
              "    <tr>\n",
              "      <th>...</th>\n",
              "      <th>...</th>\n",
              "      <td>...</td>\n",
              "      <td>...</td>\n",
              "      <td>...</td>\n",
              "      <td>...</td>\n",
              "      <td>...</td>\n",
              "      <td>...</td>\n",
              "    </tr>\n",
              "    <tr>\n",
              "      <th rowspan=\"5\" valign=\"top\">2024-12-31</th>\n",
              "      <th>XYL</th>\n",
              "      <td>115.293098</td>\n",
              "      <td>116.019997</td>\n",
              "      <td>117.110001</td>\n",
              "      <td>115.570000</td>\n",
              "      <td>116.779999</td>\n",
              "      <td>641600.0</td>\n",
              "    </tr>\n",
              "    <tr>\n",
              "      <th>YUM</th>\n",
              "      <td>132.877213</td>\n",
              "      <td>134.160004</td>\n",
              "      <td>134.789993</td>\n",
              "      <td>133.250000</td>\n",
              "      <td>134.089996</td>\n",
              "      <td>1217100.0</td>\n",
              "    </tr>\n",
              "    <tr>\n",
              "      <th>ZBH</th>\n",
              "      <td>105.404167</td>\n",
              "      <td>105.629997</td>\n",
              "      <td>106.500000</td>\n",
              "      <td>104.959999</td>\n",
              "      <td>105.910004</td>\n",
              "      <td>683300.0</td>\n",
              "    </tr>\n",
              "    <tr>\n",
              "      <th>ZBRA</th>\n",
              "      <td>386.220001</td>\n",
              "      <td>386.220001</td>\n",
              "      <td>387.410004</td>\n",
              "      <td>381.750000</td>\n",
              "      <td>383.420013</td>\n",
              "      <td>327900.0</td>\n",
              "    </tr>\n",
              "    <tr>\n",
              "      <th>ZTS</th>\n",
              "      <td>161.892609</td>\n",
              "      <td>162.929993</td>\n",
              "      <td>163.750000</td>\n",
              "      <td>161.869995</td>\n",
              "      <td>162.899994</td>\n",
              "      <td>1327400.0</td>\n",
              "    </tr>\n",
              "  </tbody>\n",
              "</table>\n",
              "<p>989160 rows × 6 columns</p>\n",
              "</div>\n",
              "    <div class=\"colab-df-buttons\">\n",
              "\n",
              "  <div class=\"colab-df-container\">\n",
              "    <button class=\"colab-df-convert\" onclick=\"convertToInteractive('df-a785c97f-74f4-4571-8fe3-49004cd951e6')\"\n",
              "            title=\"Convert this dataframe to an interactive table.\"\n",
              "            style=\"display:none;\">\n",
              "\n",
              "  <svg xmlns=\"http://www.w3.org/2000/svg\" height=\"24px\" viewBox=\"0 -960 960 960\">\n",
              "    <path d=\"M120-120v-720h720v720H120Zm60-500h600v-160H180v160Zm220 220h160v-160H400v160Zm0 220h160v-160H400v160ZM180-400h160v-160H180v160Zm440 0h160v-160H620v160ZM180-180h160v-160H180v160Zm440 0h160v-160H620v160Z\"/>\n",
              "  </svg>\n",
              "    </button>\n",
              "\n",
              "  <style>\n",
              "    .colab-df-container {\n",
              "      display:flex;\n",
              "      gap: 12px;\n",
              "    }\n",
              "\n",
              "    .colab-df-convert {\n",
              "      background-color: #E8F0FE;\n",
              "      border: none;\n",
              "      border-radius: 50%;\n",
              "      cursor: pointer;\n",
              "      display: none;\n",
              "      fill: #1967D2;\n",
              "      height: 32px;\n",
              "      padding: 0 0 0 0;\n",
              "      width: 32px;\n",
              "    }\n",
              "\n",
              "    .colab-df-convert:hover {\n",
              "      background-color: #E2EBFA;\n",
              "      box-shadow: 0px 1px 2px rgba(60, 64, 67, 0.3), 0px 1px 3px 1px rgba(60, 64, 67, 0.15);\n",
              "      fill: #174EA6;\n",
              "    }\n",
              "\n",
              "    .colab-df-buttons div {\n",
              "      margin-bottom: 4px;\n",
              "    }\n",
              "\n",
              "    [theme=dark] .colab-df-convert {\n",
              "      background-color: #3B4455;\n",
              "      fill: #D2E3FC;\n",
              "    }\n",
              "\n",
              "    [theme=dark] .colab-df-convert:hover {\n",
              "      background-color: #434B5C;\n",
              "      box-shadow: 0px 1px 3px 1px rgba(0, 0, 0, 0.15);\n",
              "      filter: drop-shadow(0px 1px 2px rgba(0, 0, 0, 0.3));\n",
              "      fill: #FFFFFF;\n",
              "    }\n",
              "  </style>\n",
              "\n",
              "    <script>\n",
              "      const buttonEl =\n",
              "        document.querySelector('#df-a785c97f-74f4-4571-8fe3-49004cd951e6 button.colab-df-convert');\n",
              "      buttonEl.style.display =\n",
              "        google.colab.kernel.accessAllowed ? 'block' : 'none';\n",
              "\n",
              "      async function convertToInteractive(key) {\n",
              "        const element = document.querySelector('#df-a785c97f-74f4-4571-8fe3-49004cd951e6');\n",
              "        const dataTable =\n",
              "          await google.colab.kernel.invokeFunction('convertToInteractive',\n",
              "                                                    [key], {});\n",
              "        if (!dataTable) return;\n",
              "\n",
              "        const docLinkHtml = 'Like what you see? Visit the ' +\n",
              "          '<a target=\"_blank\" href=https://colab.research.google.com/notebooks/data_table.ipynb>data table notebook</a>'\n",
              "          + ' to learn more about interactive tables.';\n",
              "        element.innerHTML = '';\n",
              "        dataTable['output_type'] = 'display_data';\n",
              "        await google.colab.output.renderOutput(dataTable, element);\n",
              "        const docLink = document.createElement('div');\n",
              "        docLink.innerHTML = docLinkHtml;\n",
              "        element.appendChild(docLink);\n",
              "      }\n",
              "    </script>\n",
              "  </div>\n",
              "\n",
              "\n",
              "    <div id=\"df-09a47c82-bf6f-46b4-9375-cfe1e67c7e08\">\n",
              "      <button class=\"colab-df-quickchart\" onclick=\"quickchart('df-09a47c82-bf6f-46b4-9375-cfe1e67c7e08')\"\n",
              "                title=\"Suggest charts\"\n",
              "                style=\"display:none;\">\n",
              "\n",
              "<svg xmlns=\"http://www.w3.org/2000/svg\" height=\"24px\"viewBox=\"0 0 24 24\"\n",
              "     width=\"24px\">\n",
              "    <g>\n",
              "        <path d=\"M19 3H5c-1.1 0-2 .9-2 2v14c0 1.1.9 2 2 2h14c1.1 0 2-.9 2-2V5c0-1.1-.9-2-2-2zM9 17H7v-7h2v7zm4 0h-2V7h2v10zm4 0h-2v-4h2v4z\"/>\n",
              "    </g>\n",
              "</svg>\n",
              "      </button>\n",
              "\n",
              "<style>\n",
              "  .colab-df-quickchart {\n",
              "      --bg-color: #E8F0FE;\n",
              "      --fill-color: #1967D2;\n",
              "      --hover-bg-color: #E2EBFA;\n",
              "      --hover-fill-color: #174EA6;\n",
              "      --disabled-fill-color: #AAA;\n",
              "      --disabled-bg-color: #DDD;\n",
              "  }\n",
              "\n",
              "  [theme=dark] .colab-df-quickchart {\n",
              "      --bg-color: #3B4455;\n",
              "      --fill-color: #D2E3FC;\n",
              "      --hover-bg-color: #434B5C;\n",
              "      --hover-fill-color: #FFFFFF;\n",
              "      --disabled-bg-color: #3B4455;\n",
              "      --disabled-fill-color: #666;\n",
              "  }\n",
              "\n",
              "  .colab-df-quickchart {\n",
              "    background-color: var(--bg-color);\n",
              "    border: none;\n",
              "    border-radius: 50%;\n",
              "    cursor: pointer;\n",
              "    display: none;\n",
              "    fill: var(--fill-color);\n",
              "    height: 32px;\n",
              "    padding: 0;\n",
              "    width: 32px;\n",
              "  }\n",
              "\n",
              "  .colab-df-quickchart:hover {\n",
              "    background-color: var(--hover-bg-color);\n",
              "    box-shadow: 0 1px 2px rgba(60, 64, 67, 0.3), 0 1px 3px 1px rgba(60, 64, 67, 0.15);\n",
              "    fill: var(--button-hover-fill-color);\n",
              "  }\n",
              "\n",
              "  .colab-df-quickchart-complete:disabled,\n",
              "  .colab-df-quickchart-complete:disabled:hover {\n",
              "    background-color: var(--disabled-bg-color);\n",
              "    fill: var(--disabled-fill-color);\n",
              "    box-shadow: none;\n",
              "  }\n",
              "\n",
              "  .colab-df-spinner {\n",
              "    border: 2px solid var(--fill-color);\n",
              "    border-color: transparent;\n",
              "    border-bottom-color: var(--fill-color);\n",
              "    animation:\n",
              "      spin 1s steps(1) infinite;\n",
              "  }\n",
              "\n",
              "  @keyframes spin {\n",
              "    0% {\n",
              "      border-color: transparent;\n",
              "      border-bottom-color: var(--fill-color);\n",
              "      border-left-color: var(--fill-color);\n",
              "    }\n",
              "    20% {\n",
              "      border-color: transparent;\n",
              "      border-left-color: var(--fill-color);\n",
              "      border-top-color: var(--fill-color);\n",
              "    }\n",
              "    30% {\n",
              "      border-color: transparent;\n",
              "      border-left-color: var(--fill-color);\n",
              "      border-top-color: var(--fill-color);\n",
              "      border-right-color: var(--fill-color);\n",
              "    }\n",
              "    40% {\n",
              "      border-color: transparent;\n",
              "      border-right-color: var(--fill-color);\n",
              "      border-top-color: var(--fill-color);\n",
              "    }\n",
              "    60% {\n",
              "      border-color: transparent;\n",
              "      border-right-color: var(--fill-color);\n",
              "    }\n",
              "    80% {\n",
              "      border-color: transparent;\n",
              "      border-right-color: var(--fill-color);\n",
              "      border-bottom-color: var(--fill-color);\n",
              "    }\n",
              "    90% {\n",
              "      border-color: transparent;\n",
              "      border-bottom-color: var(--fill-color);\n",
              "    }\n",
              "  }\n",
              "</style>\n",
              "\n",
              "      <script>\n",
              "        async function quickchart(key) {\n",
              "          const quickchartButtonEl =\n",
              "            document.querySelector('#' + key + ' button');\n",
              "          quickchartButtonEl.disabled = true;  // To prevent multiple clicks.\n",
              "          quickchartButtonEl.classList.add('colab-df-spinner');\n",
              "          try {\n",
              "            const charts = await google.colab.kernel.invokeFunction(\n",
              "                'suggestCharts', [key], {});\n",
              "          } catch (error) {\n",
              "            console.error('Error during call to suggestCharts:', error);\n",
              "          }\n",
              "          quickchartButtonEl.classList.remove('colab-df-spinner');\n",
              "          quickchartButtonEl.classList.add('colab-df-quickchart-complete');\n",
              "        }\n",
              "        (() => {\n",
              "          let quickchartButtonEl =\n",
              "            document.querySelector('#df-09a47c82-bf6f-46b4-9375-cfe1e67c7e08 button');\n",
              "          quickchartButtonEl.style.display =\n",
              "            google.colab.kernel.accessAllowed ? 'block' : 'none';\n",
              "        })();\n",
              "      </script>\n",
              "    </div>\n",
              "    </div>\n",
              "  </div>\n"
            ],
            "application/vnd.google.colaboratory.intrinsic+json": {
              "type": "dataframe"
            }
          },
          "metadata": {},
          "execution_count": 7
        }
      ]
    },
    {
      "cell_type": "code",
      "source": [
        "df = df.stack()"
      ],
      "metadata": {
        "id": "9WFoMWVFH4as"
      },
      "execution_count": null,
      "outputs": []
    },
    {
      "cell_type": "markdown",
      "source": [
        "## Calculate features and technical indicators for each stock"
      ],
      "metadata": {
        "id": "6FaZlhxiEZfI"
      }
    },
    {
      "cell_type": "code",
      "source": [
        "from typing_extensions import dataclass_transform\n",
        "# Garman-Klass Volatility\n",
        "df['garman_klass_vol']=((np.log(df['High']) - np.log(df['Low']))**2)/2 - (2*np.log(2)-1)*((np.log(df['Adj Close']) - np.log(df['Open']))**2)\n",
        "\n",
        "# RSI\n",
        "df['rsi'] = df.groupby(level=1)['Adj Close'].transform(lambda x: pandas_ta.rsi(close=x, length=20))\n",
        "\n",
        "# BBL\n",
        "df['bb_low'] = df.groupby(level=1)['Adj Close'].transform(lambda x: pandas_ta.bbands(close=np.log1p(x), length=20).iloc[:,0])\n",
        "df['bb_mid'] = df.groupby(level=1)['Adj Close'].transform(lambda x: pandas_ta.bbands(close=np.log1p(x), length=20).iloc[:,1])\n",
        "df['bb_high'] = df.groupby(level=1)['Adj Close'].transform(lambda x: pandas_ta.bbands(close=np.log1p(x), length=20).iloc[:,2])"
      ],
      "metadata": {
        "id": "1Lk8n6jeDoWb"
      },
      "execution_count": 9,
      "outputs": []
    },
    {
      "cell_type": "code",
      "source": [
        "# ATR\n",
        "def compute_atr(stock_data):\n",
        "  atr = pandas_ta.atr(high=stock_data['High'], low=stock_data['Low'], close=stock_data['Close'], length=14)\n",
        "\n",
        "  return atr.sub(atr.mean()).div(atr.std())\n",
        "\n",
        "df['atr'] = df.groupby(level=1, group_keys=False).apply(compute_atr)"
      ],
      "metadata": {
        "id": "r7outNi9LMNx"
      },
      "execution_count": 10,
      "outputs": []
    },
    {
      "cell_type": "code",
      "source": [
        "# MACD\n",
        "def compute_macd(close):\n",
        "  macd = pandas_ta.macd(close=close, length=20).iloc[:,0]\n",
        "\n",
        "  return macd.sub(macd.mean()).div(macd.std())\n",
        "\n",
        "df['macd'] = df.groupby(level=1, group_keys=False)['Adj Close'].apply(compute_macd)"
      ],
      "metadata": {
        "id": "iWvQLYEdZ7Y3"
      },
      "execution_count": 11,
      "outputs": []
    },
    {
      "cell_type": "code",
      "source": [
        "# Dollar Volume\n",
        "df['dollar_volume'] = (df['Adj Close']*df['Volume'])/1e6"
      ],
      "metadata": {
        "id": "kqefoOq7a815"
      },
      "execution_count": 39,
      "outputs": []
    },
    {
      "cell_type": "markdown",
      "source": [
        "## Aggregate to montly level and filter top 150 most liquid stocks for each month"
      ],
      "metadata": {
        "id": "wbaGdAwqblBw"
      }
    },
    {
      "cell_type": "code",
      "source": [
        "d_v = df.unstack('Ticker')['dollar_volume'].resample('ME').mean().stack('Ticker').to_frame('dollar_volume')\n",
        "\n",
        "last_cols = [c for c in df.columns.unique(0) if c not in ['dollar_volume', 'Volume', 'Open', 'High', 'Low', 'Close']]\n",
        "\n",
        "others = df.unstack()[last_cols].resample('ME').last().stack('Ticker', future_stack=True)\n",
        "\n",
        "idf = pd.concat([d_v, others], axis=1).dropna()"
      ],
      "metadata": {
        "id": "bFC8mKZZbb0e"
      },
      "execution_count": 40,
      "outputs": []
    },
    {
      "cell_type": "markdown",
      "source": [
        "Calculate 5-year rolling average of dollar volume for each stocks before filtering"
      ],
      "metadata": {
        "id": "aaDTrHzKDDoI"
      }
    },
    {
      "cell_type": "code",
      "source": [
        "idf['dollar_volume'] = idf['dollar_volume'].unstack('Ticker').rolling(5*12).mean().stack()\n",
        "\n",
        "idf['dollar_vol_rank'] = idf.groupby('Date')['dollar_volume'].rank(ascending=False)\n",
        "\n",
        "idf = idf[idf['dollar_vol_rank']<150].drop(['dollar_volume', 'dollar_vol_rank'], axis=1)"
      ],
      "metadata": {
        "id": "7RAEEqsPCqnE"
      },
      "execution_count": 41,
      "outputs": []
    },
    {
      "cell_type": "markdown",
      "source": [
        "## Calculate Monthly Returns for different time horizons as features"
      ],
      "metadata": {
        "id": "ZGSx5hYNHLoN"
      }
    },
    {
      "cell_type": "code",
      "source": [
        "g = df.xs('AAPL', level=1)\n",
        "\n",
        "outlier_cutoff = 0.005\n",
        "\n",
        "lags = [1, 2, 3, 6, 9, 12]\n",
        "\n",
        "for lag in lags:\n",
        "  g[f'return_{lag}m'] = g['Adj Close'].pct_change(lag).pipe(lambda x: x.clip(lower=x.quantile(outlier_cutoff),\n",
        "                                                                             upper=x.quantile(1-outlier_cutoff))).add(1).pow(1/lag).sub(1)"
      ],
      "metadata": {
        "id": "Al7WG8AhFkW6"
      },
      "execution_count": null,
      "outputs": []
    },
    {
      "cell_type": "code",
      "source": [],
      "metadata": {
        "id": "Ud1Rc7McI7uU"
      },
      "execution_count": null,
      "outputs": []
    }
  ]
}